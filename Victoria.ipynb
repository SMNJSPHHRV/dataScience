{
 "cells": [
  {
   "cell_type": "code",
   "execution_count": 1,
   "metadata": {},
   "outputs": [],
   "source": [
    "import pandas as pd\n",
    "import matplotlib.pyplot as plt"
   ]
  },
  {
   "cell_type": "code",
   "execution_count": 2,
   "metadata": {},
   "outputs": [],
   "source": [
    "df = pd.read_csv('./data/victoria_house.csv')"
   ]
  },
  {
   "cell_type": "code",
   "execution_count": 3,
   "metadata": {},
   "outputs": [
    {
     "data": {
      "text/plain": [
       "(105120, 15)"
      ]
     },
     "execution_count": 3,
     "metadata": {},
     "output_type": "execute_result"
    }
   ],
   "source": [
    "df.shape"
   ]
  },
  {
   "cell_type": "code",
   "execution_count": 4,
   "metadata": {},
   "outputs": [
    {
     "name": "stdout",
     "output_type": "stream",
     "text": [
      ">SHAPE:\n",
      "(105120, 15)\n",
      "----------------------------------------------------------------------------------------------------\n",
      ">COLUMN NAMES:\n",
      "['latitude', 'longitude', 'streetAddress', 'suburb', 'postcode', 'region', 'bedrooms', 'bathrooms', 'parkingSpaces', 'propertyType', 'price', 'listingId', 'title', 'dateSold', 'modifiedDate']\n",
      "----------------------------------------------------------------------------------------------------\n",
      ">DESCRIBE:\n",
      "            latitude      longitude       postcode      bedrooms  \\\n",
      "count  105119.000000  105119.000000  105120.000000  105120.00000   \n",
      "mean      -37.588618     144.986669    3375.773735       2.65429   \n",
      "std         0.612449       0.884748     289.116018       0.79562   \n",
      "min       -38.661799     141.579392    3000.000000       0.00000   \n",
      "25%       -37.998847     144.339984    3101.000000       2.00000   \n",
      "50%       -37.780162     144.962296    3337.000000       3.00000   \n",
      "75%       -37.581211     145.347311    3629.000000       3.00000   \n",
      "max       -36.125909     147.236576    3981.000000      13.00000   \n",
      "\n",
      "           bathrooms  parkingSpaces     listingId  \n",
      "count  105120.000000  105120.000000  1.051200e+05  \n",
      "mean        1.550875       1.553073  1.293164e+08  \n",
      "std         0.499316       0.510247  1.023279e+06  \n",
      "min         0.000000       0.000000  7.418066e+06  \n",
      "25%         1.000000       1.000000  1.293070e+08  \n",
      "50%         2.000000       2.000000  1.294218e+08  \n",
      "75%         2.000000       2.000000  1.294887e+08  \n",
      "max         5.000000      14.000000  2.022433e+08  \n",
      "----------------------------------------------------------------------------------------------------\n",
      ">ISNULL:\n",
      "latitude            1\n",
      "longitude           1\n",
      "streetAddress       0\n",
      "suburb              0\n",
      "postcode            0\n",
      "region           5242\n",
      "bedrooms            0\n",
      "bathrooms           0\n",
      "parkingSpaces       0\n",
      "propertyType        0\n",
      "price               0\n",
      "listingId           0\n",
      "title               0\n",
      "dateSold            0\n",
      "modifiedDate        0\n",
      "dtype: int64\n",
      "----------------------------------------------------------------------------------------------------\n",
      ">DTYPES:\n",
      "latitude         float64\n",
      "longitude        float64\n",
      "streetAddress     object\n",
      "suburb            object\n",
      "postcode           int64\n",
      "region            object\n",
      "bedrooms           int64\n",
      "bathrooms          int64\n",
      "parkingSpaces      int64\n",
      "propertyType      object\n",
      "price             object\n",
      "listingId          int64\n",
      "title             object\n",
      "dateSold          object\n",
      "modifiedDate      object\n",
      "dtype: object\n"
     ]
    }
   ],
   "source": [
    "def exploration(df):\n",
    "    \n",
    "    print(f'>SHAPE:\\n{df.shape}')\n",
    "    print('-' * 100)\n",
    "    print(f'>COLUMN NAMES:\\n{list(df.columns)}')\n",
    "    print('-' * 100)\n",
    "    print(f'>DESCRIBE:\\n{df.describe()}')\n",
    "    print('-' * 100)\n",
    "    print(f'>ISNULL:\\n{df.isnull().sum()}')\n",
    "    print('-' * 100)\n",
    "    print(f'>DTYPES:\\n{df.dtypes}')\n",
    "    \n",
    "exploration(df)"
   ]
  },
  {
   "cell_type": "code",
   "execution_count": 5,
   "metadata": {},
   "outputs": [
    {
     "data": {
      "text/html": [
       "<div>\n",
       "<style scoped>\n",
       "    .dataframe tbody tr th:only-of-type {\n",
       "        vertical-align: middle;\n",
       "    }\n",
       "\n",
       "    .dataframe tbody tr th {\n",
       "        vertical-align: top;\n",
       "    }\n",
       "\n",
       "    .dataframe thead th {\n",
       "        text-align: right;\n",
       "    }\n",
       "</style>\n",
       "<table border=\"1\" class=\"dataframe\">\n",
       "  <thead>\n",
       "    <tr style=\"text-align: right;\">\n",
       "      <th></th>\n",
       "      <th>latitude</th>\n",
       "      <th>longitude</th>\n",
       "      <th>streetAddress</th>\n",
       "      <th>suburb</th>\n",
       "      <th>postcode</th>\n",
       "      <th>region</th>\n",
       "      <th>bedrooms</th>\n",
       "      <th>bathrooms</th>\n",
       "      <th>parkingSpaces</th>\n",
       "      <th>propertyType</th>\n",
       "      <th>price</th>\n",
       "      <th>listingId</th>\n",
       "      <th>title</th>\n",
       "      <th>dateSold</th>\n",
       "      <th>modifiedDate</th>\n",
       "    </tr>\n",
       "  </thead>\n",
       "  <tbody>\n",
       "    <tr>\n",
       "      <th>0</th>\n",
       "      <td>-38.276067</td>\n",
       "      <td>144.485488</td>\n",
       "      <td>6 Corymbia Circuit</td>\n",
       "      <td>Barwon Heads</td>\n",
       "      <td>3227</td>\n",
       "      <td>bellarine_peninsula</td>\n",
       "      <td>3</td>\n",
       "      <td>2</td>\n",
       "      <td>2</td>\n",
       "      <td>house</td>\n",
       "      <td>$1,255,000</td>\n",
       "      <td>129714950</td>\n",
       "      <td>Luxurious Coastal Lifestyle Awaits</td>\n",
       "      <td>2018-11-06</td>\n",
       "      <td>2018-11-06T02:00:19Z</td>\n",
       "    </tr>\n",
       "  </tbody>\n",
       "</table>\n",
       "</div>"
      ],
      "text/plain": [
       "    latitude   longitude       streetAddress        suburb  postcode  \\\n",
       "0 -38.276067  144.485488  6 Corymbia Circuit  Barwon Heads      3227   \n",
       "\n",
       "                region  bedrooms  bathrooms  parkingSpaces propertyType  \\\n",
       "0  bellarine_peninsula         3          2              2        house   \n",
       "\n",
       "        price  listingId                               title    dateSold  \\\n",
       "0  $1,255,000  129714950  Luxurious Coastal Lifestyle Awaits  2018-11-06   \n",
       "\n",
       "           modifiedDate  \n",
       "0  2018-11-06T02:00:19Z  "
      ]
     },
     "execution_count": 5,
     "metadata": {},
     "output_type": "execute_result"
    }
   ],
   "source": [
    "df.head(1)"
   ]
  },
  {
   "cell_type": "code",
   "execution_count": 6,
   "metadata": {},
   "outputs": [],
   "source": [
    "# We drop modifiedDate\n",
    "df.drop('modifiedDate', axis = 1, inplace = True)"
   ]
  },
  {
   "cell_type": "markdown",
   "metadata": {},
   "source": [
    "##### We see that the price is not numeric. Also, the dateSold is not  a datetime. We drop the modifiedDate."
   ]
  },
  {
   "cell_type": "code",
   "execution_count": 7,
   "metadata": {},
   "outputs": [
    {
     "data": {
      "text/plain": [
       "array(['$1,255,000', '$725,000', '$670,000', '$600,000', '$520,000',\n",
       "       '$515,000', '$460,000', '$1,935,000', '$1,500,000', '$1,400,000',\n",
       "       '$1,300,000', '$990,000', '$920,000', '$885,000', '$855,000',\n",
       "       '$835,000', '$735,000', '$730,000', '$658,000', '$650,545',\n",
       "       '$650,000', '$647,000', '$643,000', '$627,500', '$625,000',\n",
       "       '$615,000', '$580,000', '$577,500', '$577,000', '$570,000',\n",
       "       '$550,000', '$525,000', '$497,000', '$493,500', '$485,000',\n",
       "       '$482,000', '$480,000', '$472,000', '$466,000', '$455,000',\n",
       "       '$447,500', '$410,000', '$401,000', '$398,000', '$390,000',\n",
       "       '$380,000', '$379,000', '$350,000', '$330,000', '$305,000',\n",
       "       '$290,000', '$275,000', '$790,000', '$376,000', '$1,530,000',\n",
       "       'Contact agent', '$1,265,000', '$1,235,000', '$1,067,500',\n",
       "       '$900,000', '$780,000', '$678,000', '$632,500', '$630,000',\n",
       "       '$605,000', '$603,500', '$575,000', '$540,000', '$530,000',\n",
       "       '$500,600', '$487,000', '$445,000', '$430,000', '$400,000',\n",
       "       '$386,000', '$1,453,000', '$1,200,000', '$1,100,000', '$1,055,000',\n",
       "       '$1,000,000', '$873,000', '$865,000', '$850,000', '$810,000',\n",
       "       '$805,000', '$800,000', '$765,000', '$750,000', '$720,000',\n",
       "       '$710,000', '$697,000', '$693,000', '$680,000', '$671,000',\n",
       "       '$617,000', '$585,000', '$560,000', '$528,500', '$524,000',\n",
       "       '$522,000', '$510,000', '$496,500', '$495,000', '$470,000',\n",
       "       '$420,000', '$395,000', '$385,000', '$378,000', '$362,000',\n",
       "       '$327,000', '$323,500', '$322,000', '$320,000', '$270,000',\n",
       "       '$260,000', '$215,000', '$1,780,000', '$1,268,000', '$1,225,000',\n",
       "       '$1,125,000', '$1,101,000', '$1,065,000', '$923,000', '$876,000',\n",
       "       '$825,000', '$802,000', '$775,000', '$745,000', '$718,000',\n",
       "       '$621,500', '$612,000', '$601,000', '$561,000', '$558,000',\n",
       "       '$555,000', '$545,000', '$501,500', '$446,200', '$415,000',\n",
       "       '$405,000', '$388,000', '$365,000', '$360,000', '$351,000',\n",
       "       '$345,000', '$340,000', '$335,000', '$315,000', '$220,000',\n",
       "       '$179,000', '$2,998,000', '$1,850,000', '$1,350,000', '$1,130,000',\n",
       "       '$1,115,000', '$1,010,000', '$939,500', '$930,000', '$880,000',\n",
       "       '$860,000', '$853,000', '$852,500', '$851,500', '$830,000',\n",
       "       '$823,000', '$815,000', '$795,000', '$770,000', '$768,000',\n",
       "       '$756,000', '$740,000', '$729,500', '$715,000', '$688,500',\n",
       "       '$665,000', '$660,200', '$647,500', '$645,000', '$640,000',\n",
       "       '$610,000', '$602,500', '$597,000', '$590,000', '$566,500',\n",
       "       '$562,000', '$533,000', '$512,500', '$500,500', '$500,000',\n",
       "       '$484,000', '$475,000', '$450,000', '$447,000', '$440,000',\n",
       "       '$431,000', '$418,000', '$399,000', '$375,000', '$370,000',\n",
       "       '$355,000', '$352,500', '$300,000', '$288,500', '$278,000',\n",
       "       '$235,000', '$2,810,000', '$2,200,000', '$1,900,000', '$1,785,000',\n",
       "       '$1,045,000', '$903,000', '$875,000', '$845,000', '$823,333',\n",
       "       '$798,000', '$792,000', '$774,000', '$702,000', '$701,000',\n",
       "       '$700,000', '$695,000', '$690,000', '$685,500', '$675,000',\n",
       "       '$659,000', '$655,000', '$652,000', '$635,000', '$573,000',\n",
       "       '$565,000', '$552,000', '$540,500', '$535,000', '$531,500',\n",
       "       '$530,500', '$511,000', '$468,000', '$433,000', '$425,000',\n",
       "       '$387,500', '$380,100', '$365,250', '$172,500', '$1,750,000',\n",
       "       '$1,699,000', '$1,575,000', '$1,550,000', '$1,385,000',\n",
       "       '$1,340,000', '$1,308,000', '$1,160,000', '$1,150,000',\n",
       "       '$1,105,000', '$1,060,000', '$1,040,000', '$971,500', '$955,000',\n",
       "       '$941,000', '$940,000', '$925,000', '$890,000', '$851,000',\n",
       "       '$820,000', '$807,000', '$760,000', '$712,500', '$711,000',\n",
       "       '$705,000', '$683,000', '$670,300', '$668,000', '$660,000',\n",
       "       '$637,000', '$636,000', '$623,000', '$618,000', '$595,000',\n",
       "       '$593,000', '$587,500', '$563,000', '$531,800', '$490,000',\n",
       "       '$465,000', '$389,000', '$368,000', '$360,500', '$317,500',\n",
       "       '$282,500', '$280,000', '$250,000', '$190,000', '$1,880,000',\n",
       "       '$1,730,000', '$1,725,000', '$1,620,000', '$1,280,000',\n",
       "       '$1,138,000', '$1,075,000', '$787,500', '$766,000', '$526,000',\n",
       "       '$6,100,000', '$5,850,000', '$3,350,000', '$2,670,000',\n",
       "       '$2,630,000', '$2,550,000', '$2,450,000', '$2,335,000',\n",
       "       '$2,295,000', '$2,250,000', '$2,001,888', '$1,990,000',\n",
       "       '$1,860,000', '$1,788,000', '$1,740,000', '$1,705,000',\n",
       "       '$1,700,000', '$1,630,000', '$1,605,000', '$1,600,000',\n",
       "       '$1,471,888', '$1,470,000', '$1,450,000', '$1,448,000',\n",
       "       '$1,440,000', '$1,420,000', '$1,410,000', '$1,405,000',\n",
       "       '$1,395,000', '$1,388,000', '$1,370,000', '$1,365,000',\n",
       "       '$1,355,000', '$1,342,500', '$1,335,000', '$1,330,000',\n",
       "       '$1,305,000', '$1,302,500', '$1,301,000', '$1,285,250',\n",
       "       '$1,285,000', '$1,282,000', '$1,270,000', '$1,260,000',\n",
       "       '$1,250,000', '$1,230,000', '$1,220,000', '$1,214,000',\n",
       "       '$1,210,000', '$1,203,000', '$1,185,000', '$1,180,000',\n",
       "       '$1,170,000', '$1,165,000', '$1,156,000', '$1,154,000',\n",
       "       '$1,153,000', '$1,136,000', '$1,119,000', '$1,110,000',\n",
       "       '$1,091,000', '$1,085,000', '$1,078,000', '$1,070,000',\n",
       "       '$1,050,000', '$1,033,500', '$1,029,000', '$1,025,000',\n",
       "       '$1,016,000', '$1,013,000', '$1,005,000', '$1,000,200', '$995,000',\n",
       "       '$983,500', '$980,000', '$976,000', '$968,000', '$965,000',\n",
       "       '$960,000', '$951,000', '$942,000', '$935,000', '$915,000',\n",
       "       '$912,500', '$910,000', '$905,000', '$901,000', '$895,000',\n",
       "       '$890,500', '$887,000', '$877,500', '$872,000', '$862,500',\n",
       "       '$862,000', '$858,000', '$842,000', '$840,000', '$837,000',\n",
       "       '$836,500', '$816,500', '$807,500', '$797,000', '$791,000',\n",
       "       '$781,500', '$777,500', '$772,000', '$761,000', '$745,500',\n",
       "       '$742,000', '$716,000', '$713,000', '$706,000', '$692,500',\n",
       "       '$691,000', '$688,000', '$686,000', '$685,000', '$661,000',\n",
       "       '$653,000', '$642,500', '$641,850', '$641,000', '$640,001',\n",
       "       '$638,000', '$631,000', '$622,500', '$620,000', '$616,000',\n",
       "       '$611,000', '$610,500', '$609,000', '$607,000', '$606,500',\n",
       "       '$592,000', '$591,000', '$588,000', '$586,000', '$551,500',\n",
       "       '$551,000', '$547,000', '$532,000', '$527,150', '$516,000',\n",
       "       '$506,000', '$498,000', '$491,000', '$472,500', '$466,500',\n",
       "       '$456,500', '$452,500', '$451,700', '$451,000', '$440,500',\n",
       "       '$435,000', '$416,000', '$411,500', '$402,500', '$373,000',\n",
       "       '$372,000', '$369,000', '$366,000', '$347,000', '$342,000',\n",
       "       '$306,000', '$285,000', '$245,000', '$241,000', '$5,500,000',\n",
       "       '$2,950,000', '$1,325,000', '$1,310,000', '$1,140,000', '$771,000',\n",
       "       '$755,000', '$707,500', '$705,100', '$682,500', '$660,250',\n",
       "       '$650,800', '$617,500', '$597,500', '$578,000', '$538,000',\n",
       "       '$529,000', '$515,111', '$481,500', '$477,000', '$473,500',\n",
       "       '$471,000', '$432,500', '$356,000'], dtype=object)"
      ]
     },
     "execution_count": 7,
     "metadata": {},
     "output_type": "execute_result"
    }
   ],
   "source": [
    "df['price'].unique()"
   ]
  },
  {
   "cell_type": "code",
   "execution_count": 8,
   "metadata": {},
   "outputs": [
    {
     "name": "stdout",
     "output_type": "stream",
     "text": [
      ">SHAPE: (15, 14)\n"
     ]
    }
   ],
   "source": [
    "# How many rows have no price?\n",
    "print('>SHAPE:',df[df['price'] == 'Contact agent'].shape)"
   ]
  },
  {
   "cell_type": "code",
   "execution_count": 9,
   "metadata": {},
   "outputs": [],
   "source": [
    "def get_price(price):\n",
    "    \n",
    "    return price.replace(',','').replace('$','')"
   ]
  },
  {
   "cell_type": "code",
   "execution_count": 10,
   "metadata": {},
   "outputs": [],
   "source": [
    "df['price'] = df['price'].apply(lambda x: get_price(x))"
   ]
  },
  {
   "cell_type": "code",
   "execution_count": 11,
   "metadata": {},
   "outputs": [
    {
     "data": {
      "text/plain": [
       "array(['1255000', '725000', '670000', '600000', '520000', '515000',\n",
       "       '460000', '1935000', '1500000', '1400000', '1300000', '990000',\n",
       "       '920000', '885000', '855000', '835000', '735000', '730000',\n",
       "       '658000', '650545', '650000', '647000', '643000', '627500',\n",
       "       '625000', '615000', '580000', '577500', '577000', '570000',\n",
       "       '550000', '525000', '497000', '493500', '485000', '482000',\n",
       "       '480000', '472000', '466000', '455000', '447500', '410000',\n",
       "       '401000', '398000', '390000', '380000', '379000', '350000',\n",
       "       '330000', '305000', '290000', '275000', '790000', '376000',\n",
       "       '1530000', 'Contact agent', '1265000', '1235000', '1067500',\n",
       "       '900000', '780000', '678000', '632500', '630000', '605000',\n",
       "       '603500', '575000', '540000', '530000', '500600', '487000',\n",
       "       '445000', '430000', '400000', '386000', '1453000', '1200000',\n",
       "       '1100000', '1055000', '1000000', '873000', '865000', '850000',\n",
       "       '810000', '805000', '800000', '765000', '750000', '720000',\n",
       "       '710000', '697000', '693000', '680000', '671000', '617000',\n",
       "       '585000', '560000', '528500', '524000', '522000', '510000',\n",
       "       '496500', '495000', '470000', '420000', '395000', '385000',\n",
       "       '378000', '362000', '327000', '323500', '322000', '320000',\n",
       "       '270000', '260000', '215000', '1780000', '1268000', '1225000',\n",
       "       '1125000', '1101000', '1065000', '923000', '876000', '825000',\n",
       "       '802000', '775000', '745000', '718000', '621500', '612000',\n",
       "       '601000', '561000', '558000', '555000', '545000', '501500',\n",
       "       '446200', '415000', '405000', '388000', '365000', '360000',\n",
       "       '351000', '345000', '340000', '335000', '315000', '220000',\n",
       "       '179000', '2998000', '1850000', '1350000', '1130000', '1115000',\n",
       "       '1010000', '939500', '930000', '880000', '860000', '853000',\n",
       "       '852500', '851500', '830000', '823000', '815000', '795000',\n",
       "       '770000', '768000', '756000', '740000', '729500', '715000',\n",
       "       '688500', '665000', '660200', '647500', '645000', '640000',\n",
       "       '610000', '602500', '597000', '590000', '566500', '562000',\n",
       "       '533000', '512500', '500500', '500000', '484000', '475000',\n",
       "       '450000', '447000', '440000', '431000', '418000', '399000',\n",
       "       '375000', '370000', '355000', '352500', '300000', '288500',\n",
       "       '278000', '235000', '2810000', '2200000', '1900000', '1785000',\n",
       "       '1045000', '903000', '875000', '845000', '823333', '798000',\n",
       "       '792000', '774000', '702000', '701000', '700000', '695000',\n",
       "       '690000', '685500', '675000', '659000', '655000', '652000',\n",
       "       '635000', '573000', '565000', '552000', '540500', '535000',\n",
       "       '531500', '530500', '511000', '468000', '433000', '425000',\n",
       "       '387500', '380100', '365250', '172500', '1750000', '1699000',\n",
       "       '1575000', '1550000', '1385000', '1340000', '1308000', '1160000',\n",
       "       '1150000', '1105000', '1060000', '1040000', '971500', '955000',\n",
       "       '941000', '940000', '925000', '890000', '851000', '820000',\n",
       "       '807000', '760000', '712500', '711000', '705000', '683000',\n",
       "       '670300', '668000', '660000', '637000', '636000', '623000',\n",
       "       '618000', '595000', '593000', '587500', '563000', '531800',\n",
       "       '490000', '465000', '389000', '368000', '360500', '317500',\n",
       "       '282500', '280000', '250000', '190000', '1880000', '1730000',\n",
       "       '1725000', '1620000', '1280000', '1138000', '1075000', '787500',\n",
       "       '766000', '526000', '6100000', '5850000', '3350000', '2670000',\n",
       "       '2630000', '2550000', '2450000', '2335000', '2295000', '2250000',\n",
       "       '2001888', '1990000', '1860000', '1788000', '1740000', '1705000',\n",
       "       '1700000', '1630000', '1605000', '1600000', '1471888', '1470000',\n",
       "       '1450000', '1448000', '1440000', '1420000', '1410000', '1405000',\n",
       "       '1395000', '1388000', '1370000', '1365000', '1355000', '1342500',\n",
       "       '1335000', '1330000', '1305000', '1302500', '1301000', '1285250',\n",
       "       '1285000', '1282000', '1270000', '1260000', '1250000', '1230000',\n",
       "       '1220000', '1214000', '1210000', '1203000', '1185000', '1180000',\n",
       "       '1170000', '1165000', '1156000', '1154000', '1153000', '1136000',\n",
       "       '1119000', '1110000', '1091000', '1085000', '1078000', '1070000',\n",
       "       '1050000', '1033500', '1029000', '1025000', '1016000', '1013000',\n",
       "       '1005000', '1000200', '995000', '983500', '980000', '976000',\n",
       "       '968000', '965000', '960000', '951000', '942000', '935000',\n",
       "       '915000', '912500', '910000', '905000', '901000', '895000',\n",
       "       '890500', '887000', '877500', '872000', '862500', '862000',\n",
       "       '858000', '842000', '840000', '837000', '836500', '816500',\n",
       "       '807500', '797000', '791000', '781500', '777500', '772000',\n",
       "       '761000', '745500', '742000', '716000', '713000', '706000',\n",
       "       '692500', '691000', '688000', '686000', '685000', '661000',\n",
       "       '653000', '642500', '641850', '641000', '640001', '638000',\n",
       "       '631000', '622500', '620000', '616000', '611000', '610500',\n",
       "       '609000', '607000', '606500', '592000', '591000', '588000',\n",
       "       '586000', '551500', '551000', '547000', '532000', '527150',\n",
       "       '516000', '506000', '498000', '491000', '472500', '466500',\n",
       "       '456500', '452500', '451700', '451000', '440500', '435000',\n",
       "       '416000', '411500', '402500', '373000', '372000', '369000',\n",
       "       '366000', '347000', '342000', '306000', '285000', '245000',\n",
       "       '241000', '5500000', '2950000', '1325000', '1310000', '1140000',\n",
       "       '771000', '755000', '707500', '705100', '682500', '660250',\n",
       "       '650800', '617500', '597500', '578000', '538000', '529000',\n",
       "       '515111', '481500', '477000', '473500', '471000', '432500',\n",
       "       '356000'], dtype=object)"
      ]
     },
     "execution_count": 11,
     "metadata": {},
     "output_type": "execute_result"
    }
   ],
   "source": [
    "df['price'].unique()"
   ]
  },
  {
   "cell_type": "code",
   "execution_count": 12,
   "metadata": {},
   "outputs": [],
   "source": [
    "df = df[df['price'].str.isnumeric()]"
   ]
  },
  {
   "cell_type": "code",
   "execution_count": 13,
   "metadata": {},
   "outputs": [
    {
     "name": "stdout",
     "output_type": "stream",
     "text": [
      ">SHAPE: (0, 14)\n"
     ]
    }
   ],
   "source": [
    "# Checking of the deletion.\n",
    "print('>SHAPE:',df[~df['price'].str.isnumeric()].shape)"
   ]
  },
  {
   "cell_type": "code",
   "execution_count": 14,
   "metadata": {},
   "outputs": [],
   "source": [
    "df['price'] = pd.to_numeric(df['price'])"
   ]
  },
  {
   "cell_type": "code",
   "execution_count": 15,
   "metadata": {},
   "outputs": [],
   "source": [
    "df['dateSold'] = pd.to_datetime(df['dateSold'])"
   ]
  },
  {
   "cell_type": "code",
   "execution_count": 16,
   "metadata": {},
   "outputs": [
    {
     "data": {
      "text/plain": [
       "latitude                float64\n",
       "longitude               float64\n",
       "streetAddress            object\n",
       "suburb                   object\n",
       "postcode                  int64\n",
       "region                   object\n",
       "bedrooms                  int64\n",
       "bathrooms                 int64\n",
       "parkingSpaces             int64\n",
       "propertyType             object\n",
       "price                     int64\n",
       "listingId                 int64\n",
       "title                    object\n",
       "dateSold         datetime64[ns]\n",
       "dtype: object"
      ]
     },
     "execution_count": 16,
     "metadata": {},
     "output_type": "execute_result"
    }
   ],
   "source": [
    "# Checking of the types changing.\n",
    "df.dtypes"
   ]
  },
  {
   "cell_type": "code",
   "execution_count": 17,
   "metadata": {},
   "outputs": [
    {
     "data": {
      "text/html": [
       "<div>\n",
       "<style scoped>\n",
       "    .dataframe tbody tr th:only-of-type {\n",
       "        vertical-align: middle;\n",
       "    }\n",
       "\n",
       "    .dataframe tbody tr th {\n",
       "        vertical-align: top;\n",
       "    }\n",
       "\n",
       "    .dataframe thead th {\n",
       "        text-align: right;\n",
       "    }\n",
       "</style>\n",
       "<table border=\"1\" class=\"dataframe\">\n",
       "  <thead>\n",
       "    <tr style=\"text-align: right;\">\n",
       "      <th></th>\n",
       "      <th>latitude</th>\n",
       "      <th>longitude</th>\n",
       "      <th>streetAddress</th>\n",
       "      <th>suburb</th>\n",
       "      <th>postcode</th>\n",
       "      <th>region</th>\n",
       "      <th>bedrooms</th>\n",
       "      <th>bathrooms</th>\n",
       "      <th>parkingSpaces</th>\n",
       "      <th>propertyType</th>\n",
       "      <th>price</th>\n",
       "      <th>listingId</th>\n",
       "      <th>title</th>\n",
       "      <th>dateSold</th>\n",
       "    </tr>\n",
       "  </thead>\n",
       "  <tbody>\n",
       "    <tr>\n",
       "      <th>0</th>\n",
       "      <td>-38.276067</td>\n",
       "      <td>144.485488</td>\n",
       "      <td>6 Corymbia Circuit</td>\n",
       "      <td>Barwon Heads</td>\n",
       "      <td>3227</td>\n",
       "      <td>bellarine_peninsula</td>\n",
       "      <td>3</td>\n",
       "      <td>2</td>\n",
       "      <td>2</td>\n",
       "      <td>house</td>\n",
       "      <td>1255000</td>\n",
       "      <td>129714950</td>\n",
       "      <td>Luxurious Coastal Lifestyle Awaits</td>\n",
       "      <td>2018-11-06</td>\n",
       "    </tr>\n",
       "  </tbody>\n",
       "</table>\n",
       "</div>"
      ],
      "text/plain": [
       "    latitude   longitude       streetAddress        suburb  postcode  \\\n",
       "0 -38.276067  144.485488  6 Corymbia Circuit  Barwon Heads      3227   \n",
       "\n",
       "                region  bedrooms  bathrooms  parkingSpaces propertyType  \\\n",
       "0  bellarine_peninsula         3          2              2        house   \n",
       "\n",
       "     price  listingId                               title   dateSold  \n",
       "0  1255000  129714950  Luxurious Coastal Lifestyle Awaits 2018-11-06  "
      ]
     },
     "execution_count": 17,
     "metadata": {},
     "output_type": "execute_result"
    }
   ],
   "source": [
    "df.head(1)"
   ]
  },
  {
   "cell_type": "code",
   "execution_count": 18,
   "metadata": {},
   "outputs": [
    {
     "data": {
      "text/plain": [
       "array(['bellarine_peninsula', 'melbourne___northern_region', nan,\n",
       "       'south_western_region', 'south_west_melbourne',\n",
       "       'south_east_melbourne', 'mornington_peninsula',\n",
       "       'eastern_melbourne', 'western_region', 'western_melbourne',\n",
       "       'gippsland', 'north_west_melbourne', 'northern_region',\n",
       "       'inner_east_melbourne', 'north_east_region', 'bayside',\n",
       "       'melbourne_city___greater_region'], dtype=object)"
      ]
     },
     "execution_count": 18,
     "metadata": {},
     "output_type": "execute_result"
    }
   ],
   "source": [
    "# We have 5242 rows with no region name.\n",
    "df['region'].unique()"
   ]
  },
  {
   "cell_type": "markdown",
   "metadata": {},
   "source": [
    "##### We fix the loosing region name by the postcode."
   ]
  },
  {
   "cell_type": "code",
   "execution_count": 19,
   "metadata": {},
   "outputs": [],
   "source": [
    "dfdict = df[['postcode','region']].copy()\n",
    "dfdict.dropna(axis = 0,inplace = True)\n",
    "dfdict.drop_duplicates(inplace = True)\n",
    "regionDict = dfdict.to_dict('records')"
   ]
  },
  {
   "cell_type": "code",
   "execution_count": 20,
   "metadata": {},
   "outputs": [],
   "source": [
    "def get_region(postcode, regionDict):\n",
    "    \n",
    "    for i in regionDict:\n",
    "        if i['postcode'] == postcode:\n",
    "            return i['region']"
   ]
  },
  {
   "cell_type": "code",
   "execution_count": 21,
   "metadata": {},
   "outputs": [],
   "source": [
    "df['region'] = df['postcode'].apply(lambda x: get_region(x, regionDict))"
   ]
  },
  {
   "cell_type": "code",
   "execution_count": 22,
   "metadata": {},
   "outputs": [
    {
     "data": {
      "text/plain": [
       "latitude          1\n",
       "longitude         1\n",
       "streetAddress     0\n",
       "suburb            0\n",
       "postcode          0\n",
       "region           11\n",
       "bedrooms          0\n",
       "bathrooms         0\n",
       "parkingSpaces     0\n",
       "propertyType      0\n",
       "price             0\n",
       "listingId         0\n",
       "title             0\n",
       "dateSold          0\n",
       "dtype: int64"
      ]
     },
     "execution_count": 22,
     "metadata": {},
     "output_type": "execute_result"
    }
   ],
   "source": [
    "# There is still some rows with no region, so we delete them.\n",
    "df.isnull().sum()"
   ]
  },
  {
   "cell_type": "code",
   "execution_count": 23,
   "metadata": {},
   "outputs": [
    {
     "data": {
      "text/html": [
       "<div>\n",
       "<style scoped>\n",
       "    .dataframe tbody tr th:only-of-type {\n",
       "        vertical-align: middle;\n",
       "    }\n",
       "\n",
       "    .dataframe tbody tr th {\n",
       "        vertical-align: top;\n",
       "    }\n",
       "\n",
       "    .dataframe thead th {\n",
       "        text-align: right;\n",
       "    }\n",
       "</style>\n",
       "<table border=\"1\" class=\"dataframe\">\n",
       "  <thead>\n",
       "    <tr style=\"text-align: right;\">\n",
       "      <th></th>\n",
       "      <th>latitude</th>\n",
       "      <th>longitude</th>\n",
       "      <th>streetAddress</th>\n",
       "      <th>suburb</th>\n",
       "      <th>postcode</th>\n",
       "      <th>region</th>\n",
       "      <th>bedrooms</th>\n",
       "      <th>bathrooms</th>\n",
       "      <th>parkingSpaces</th>\n",
       "      <th>propertyType</th>\n",
       "      <th>price</th>\n",
       "      <th>listingId</th>\n",
       "      <th>title</th>\n",
       "      <th>dateSold</th>\n",
       "    </tr>\n",
       "  </thead>\n",
       "  <tbody>\n",
       "    <tr>\n",
       "      <th>34</th>\n",
       "      <td>NaN</td>\n",
       "      <td>NaN</td>\n",
       "      <td>12 Caitlin Street</td>\n",
       "      <td>Lara</td>\n",
       "      <td>3212</td>\n",
       "      <td>south_west_melbourne</td>\n",
       "      <td>4</td>\n",
       "      <td>2</td>\n",
       "      <td>2</td>\n",
       "      <td>house</td>\n",
       "      <td>577000</td>\n",
       "      <td>128340206</td>\n",
       "      <td>BRAND NEW JUST UNPACK AND ENJOY!</td>\n",
       "      <td>2018-11-05</td>\n",
       "    </tr>\n",
       "  </tbody>\n",
       "</table>\n",
       "</div>"
      ],
      "text/plain": [
       "    latitude  longitude      streetAddress suburb  postcode  \\\n",
       "34       NaN        NaN  12 Caitlin Street   Lara      3212   \n",
       "\n",
       "                  region  bedrooms  bathrooms  parkingSpaces propertyType  \\\n",
       "34  south_west_melbourne         4          2              2        house   \n",
       "\n",
       "     price  listingId                             title   dateSold  \n",
       "34  577000  128340206  BRAND NEW JUST UNPACK AND ENJOY! 2018-11-05  "
      ]
     },
     "execution_count": 23,
     "metadata": {},
     "output_type": "execute_result"
    }
   ],
   "source": [
    "# We drop this row also.\n",
    "df[df['latitude'].isnull()]"
   ]
  },
  {
   "cell_type": "code",
   "execution_count": 24,
   "metadata": {},
   "outputs": [],
   "source": [
    "df.dropna(inplace = True)"
   ]
  },
  {
   "cell_type": "code",
   "execution_count": 25,
   "metadata": {},
   "outputs": [
    {
     "data": {
      "text/plain": [
       "latitude         0\n",
       "longitude        0\n",
       "streetAddress    0\n",
       "suburb           0\n",
       "postcode         0\n",
       "region           0\n",
       "bedrooms         0\n",
       "bathrooms        0\n",
       "parkingSpaces    0\n",
       "propertyType     0\n",
       "price            0\n",
       "listingId        0\n",
       "title            0\n",
       "dateSold         0\n",
       "dtype: int64"
      ]
     },
     "execution_count": 25,
     "metadata": {},
     "output_type": "execute_result"
    }
   ],
   "source": [
    "# Checking the deletion.\n",
    "df.isnull().sum()"
   ]
  },
  {
   "cell_type": "code",
   "execution_count": 26,
   "metadata": {},
   "outputs": [
    {
     "data": {
      "text/plain": [
       "(105093, 14)"
      ]
     },
     "execution_count": 26,
     "metadata": {},
     "output_type": "execute_result"
    }
   ],
   "source": [
    "df.shape"
   ]
  },
  {
   "cell_type": "code",
   "execution_count": 27,
   "metadata": {},
   "outputs": [
    {
     "data": {
      "text/html": [
       "<div>\n",
       "<style scoped>\n",
       "    .dataframe tbody tr th:only-of-type {\n",
       "        vertical-align: middle;\n",
       "    }\n",
       "\n",
       "    .dataframe tbody tr th {\n",
       "        vertical-align: top;\n",
       "    }\n",
       "\n",
       "    .dataframe thead th {\n",
       "        text-align: right;\n",
       "    }\n",
       "</style>\n",
       "<table border=\"1\" class=\"dataframe\">\n",
       "  <thead>\n",
       "    <tr style=\"text-align: right;\">\n",
       "      <th></th>\n",
       "      <th>latitude</th>\n",
       "      <th>longitude</th>\n",
       "      <th>streetAddress</th>\n",
       "      <th>suburb</th>\n",
       "      <th>postcode</th>\n",
       "      <th>region</th>\n",
       "      <th>bedrooms</th>\n",
       "      <th>bathrooms</th>\n",
       "      <th>parkingSpaces</th>\n",
       "      <th>propertyType</th>\n",
       "      <th>price</th>\n",
       "      <th>listingId</th>\n",
       "      <th>title</th>\n",
       "      <th>dateSold</th>\n",
       "    </tr>\n",
       "  </thead>\n",
       "  <tbody>\n",
       "    <tr>\n",
       "      <th>0</th>\n",
       "      <td>-38.276067</td>\n",
       "      <td>144.485488</td>\n",
       "      <td>6 Corymbia Circuit</td>\n",
       "      <td>Barwon Heads</td>\n",
       "      <td>3227</td>\n",
       "      <td>bellarine_peninsula</td>\n",
       "      <td>3</td>\n",
       "      <td>2</td>\n",
       "      <td>2</td>\n",
       "      <td>house</td>\n",
       "      <td>1255000</td>\n",
       "      <td>129714950</td>\n",
       "      <td>Luxurious Coastal Lifestyle Awaits</td>\n",
       "      <td>2018-11-06</td>\n",
       "    </tr>\n",
       "    <tr>\n",
       "      <th>1</th>\n",
       "      <td>-38.238159</td>\n",
       "      <td>144.545576</td>\n",
       "      <td>9 La Bella Street</td>\n",
       "      <td>Ocean Grove</td>\n",
       "      <td>3226</td>\n",
       "      <td>bellarine_peninsula</td>\n",
       "      <td>4</td>\n",
       "      <td>2</td>\n",
       "      <td>2</td>\n",
       "      <td>house</td>\n",
       "      <td>725000</td>\n",
       "      <td>129219294</td>\n",
       "      <td>Laid Back Family Living In An Idyllic Location</td>\n",
       "      <td>2018-11-06</td>\n",
       "    </tr>\n",
       "    <tr>\n",
       "      <th>2</th>\n",
       "      <td>-37.638387</td>\n",
       "      <td>144.922701</td>\n",
       "      <td>26 Greensted Grove</td>\n",
       "      <td>Roxburgh Park</td>\n",
       "      <td>3064</td>\n",
       "      <td>melbourne___northern_region</td>\n",
       "      <td>4</td>\n",
       "      <td>2</td>\n",
       "      <td>2</td>\n",
       "      <td>house</td>\n",
       "      <td>670000</td>\n",
       "      <td>129517974</td>\n",
       "      <td>Oversized &amp; park-facing</td>\n",
       "      <td>2018-11-06</td>\n",
       "    </tr>\n",
       "    <tr>\n",
       "      <th>3</th>\n",
       "      <td>-38.121844</td>\n",
       "      <td>144.332476</td>\n",
       "      <td>80 Calvert Street</td>\n",
       "      <td>Hamlyn Heights</td>\n",
       "      <td>3215</td>\n",
       "      <td>bellarine_peninsula</td>\n",
       "      <td>3</td>\n",
       "      <td>2</td>\n",
       "      <td>1</td>\n",
       "      <td>house</td>\n",
       "      <td>600000</td>\n",
       "      <td>129640018</td>\n",
       "      <td>Cherished Family Home In Leafy Hamlyn Heights</td>\n",
       "      <td>2018-11-06</td>\n",
       "    </tr>\n",
       "    <tr>\n",
       "      <th>4</th>\n",
       "      <td>-38.129071</td>\n",
       "      <td>144.323640</td>\n",
       "      <td>295 Church Street</td>\n",
       "      <td>Herne Hill</td>\n",
       "      <td>3218</td>\n",
       "      <td>bellarine_peninsula</td>\n",
       "      <td>3</td>\n",
       "      <td>1</td>\n",
       "      <td>2</td>\n",
       "      <td>house</td>\n",
       "      <td>520000</td>\n",
       "      <td>129459426</td>\n",
       "      <td>Potential Plus</td>\n",
       "      <td>2018-11-06</td>\n",
       "    </tr>\n",
       "  </tbody>\n",
       "</table>\n",
       "</div>"
      ],
      "text/plain": [
       "    latitude   longitude       streetAddress          suburb  postcode  \\\n",
       "0 -38.276067  144.485488  6 Corymbia Circuit    Barwon Heads      3227   \n",
       "1 -38.238159  144.545576   9 La Bella Street     Ocean Grove      3226   \n",
       "2 -37.638387  144.922701  26 Greensted Grove   Roxburgh Park      3064   \n",
       "3 -38.121844  144.332476   80 Calvert Street  Hamlyn Heights      3215   \n",
       "4 -38.129071  144.323640   295 Church Street      Herne Hill      3218   \n",
       "\n",
       "                        region  bedrooms  bathrooms  parkingSpaces  \\\n",
       "0          bellarine_peninsula         3          2              2   \n",
       "1          bellarine_peninsula         4          2              2   \n",
       "2  melbourne___northern_region         4          2              2   \n",
       "3          bellarine_peninsula         3          2              1   \n",
       "4          bellarine_peninsula         3          1              2   \n",
       "\n",
       "  propertyType    price  listingId  \\\n",
       "0        house  1255000  129714950   \n",
       "1        house   725000  129219294   \n",
       "2        house   670000  129517974   \n",
       "3        house   600000  129640018   \n",
       "4        house   520000  129459426   \n",
       "\n",
       "                                            title   dateSold  \n",
       "0              Luxurious Coastal Lifestyle Awaits 2018-11-06  \n",
       "1  Laid Back Family Living In An Idyllic Location 2018-11-06  \n",
       "2                         Oversized & park-facing 2018-11-06  \n",
       "3  Cherished Family Home In Leafy Hamlyn Heights  2018-11-06  \n",
       "4                                  Potential Plus 2018-11-06  "
      ]
     },
     "execution_count": 27,
     "metadata": {},
     "output_type": "execute_result"
    }
   ],
   "source": [
    "df.head(5)"
   ]
  },
  {
   "cell_type": "markdown",
   "metadata": {},
   "source": [
    "##### We save the dataset."
   ]
  },
  {
   "cell_type": "code",
   "execution_count": 28,
   "metadata": {},
   "outputs": [],
   "source": [
    "df.to_csv('victoria_house_cln.csv')"
   ]
  }
 ],
 "metadata": {
  "kernelspec": {
   "display_name": "Python 3",
   "language": "python",
   "name": "python3"
  },
  "language_info": {
   "codemirror_mode": {
    "name": "ipython",
    "version": 3
   },
   "file_extension": ".py",
   "mimetype": "text/x-python",
   "name": "python",
   "nbconvert_exporter": "python",
   "pygments_lexer": "ipython3",
   "version": "3.7.3"
  }
 },
 "nbformat": 4,
 "nbformat_minor": 2
}
